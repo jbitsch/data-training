{
 "cells": [
  {
   "cell_type": "code",
   "execution_count": 95,
   "metadata": {
    "collapsed": true
   },
   "outputs": [],
   "source": [
    "import csv\n",
    "%matplotlib inline\n",
    "from matplotlib import pyplot as plt\n",
    "import statsmodels.api as sm\n",
    "import numpy as np\n",
    "import scipy \n",
    "from sklearn.metrics import r2_score"
   ]
  },
  {
   "cell_type": "code",
   "execution_count": 96,
   "metadata": {
    "collapsed": true
   },
   "outputs": [],
   "source": [
    "with open('data.csv', 'rb') as f:\n",
    "    reader = csv.reader(f)\n",
    "    your_list = list(reader)"
   ]
  },
  {
   "cell_type": "code",
   "execution_count": 113,
   "metadata": {},
   "outputs": [
    {
     "name": "stdout",
     "output_type": "stream",
     "text": [
      "0 Age\n",
      "1 HR\n",
      "2 Sys\n",
      "3 Dia\n",
      "4 Height\n",
      "5 Pre: weight\n",
      "6 Post: weight\n",
      "7 Pre: Fedt\n",
      "8 Post: Fedt\n",
      "9 Pre: BMI\n",
      "10 Post: BMI\n",
      "11 Pre: Muskelmasse\n",
      "12 Post: Muskelmasse\n",
      "13 T: CMJ1\n",
      "14 Pre: CMJ1\n",
      "15 Post: CMJ1\n",
      "16 T: CMJ2\n",
      "17 Pre: CMJ2\n",
      "18 Post: CMJ2\n",
      "19 T: CMJ3\n",
      "20 Pre: CMJ3\n",
      "21 Post: CMJ3\n",
      "22 Pre: CMJavg\n",
      "23 Post: CMJavg\n",
      "24 T: 10RM\n",
      "25 Pre: 10RM kg\n",
      "26 Pre: 10RM\n",
      "27 Post: 10RM\n",
      "28 T: 3RM\n",
      "29 Pre: 3RM kg\n",
      "30 Pre: 3RM\n",
      "31 Post: 3RM\n",
      "32 T: 20m sprint1\n",
      "33 Pre: 20m sprint1\n",
      "34 Post: 20m sprint1\n",
      "35 T: 5m sprint1\n",
      "36 Pre: 5m sprint1\n",
      "37 Post: 5m sprint1\n",
      "38 T: 20m sprint2\n",
      "39 Pre: 20m sprint2\n",
      "40 Post: 20m sprint2\n",
      "41 T: 5m sprint2\n",
      "42 Pre: 5m sprint2\n",
      "43 Post: 5m sprint2\n",
      "44 T: 20m sprint3\n",
      "45 Pre: 20m sprint3\n",
      "46 Post: 20m sprint3\n",
      "47 T: 5m sprint3\n",
      "48 Pre: 5m sprint3\n",
      "49 Post: 5m sprint3\n",
      "50 PRE\n",
      "51 POST\n",
      "52 PRE\n",
      "53 POST\n",
      "54 T: YoYo\n",
      "55 Pre: YoYo\n",
      "56 Post: YoYo\n",
      "57 T: VO2max\n",
      "58 Pre: VO2max\n",
      "59 Post: VO2max\n",
      "60 \n",
      "61 \n",
      "62 \n",
      "63 \n",
      "64 \n",
      "65 \n",
      "66 \n",
      "67 \n",
      "68 \n",
      "69 \n",
      "70 \n"
     ]
    }
   ],
   "source": [
    "for (index,row) in enumerate(your_list[0]):\n",
    "    print index, row"
   ]
  },
  {
   "cell_type": "code",
   "execution_count": 98,
   "metadata": {
    "collapsed": true
   },
   "outputs": [],
   "source": [
    "def rsquared(x, y):\n",
    "    \"\"\" Return R^2 where x and y are array-like.\"\"\"\n",
    "\n",
    "    slope, intercept, r_value, p_value, std_err = scipy.stats.linregress(x, y)\n",
    "    return r_value**2"
   ]
  },
  {
   "cell_type": "markdown",
   "metadata": {},
   "source": [
    "# Styrke gruppen"
   ]
  },
  {
   "cell_type": "code",
   "execution_count": 110,
   "metadata": {},
   "outputs": [
    {
     "name": "stdout",
     "output_type": "stream",
     "text": [
      "y=-4.875815x+(221.198735)\n",
      "0.66570227898\n",
      "r2 0.66570227898\n",
      "Pre: VO2max (mean) 40.2727272727\n",
      "Pre: Fedt (mean) 24.8363636364\n"
     ]
    },
    {
     "data": {
      "image/png": "[encoded data removed]",
      "text/plain": [
       "<matplotlib.figure.Figure at 0x1155d0610>"
      ]
     },
     "metadata": {},
     "output_type": "display_data"
    }
   ],
   "source": [
    "x_axes = []\n",
    "y_axes = []\n",
    "\n",
    "for index, row in enumerate(your_list[1:12]):\n",
    "    #print index, row[59]\n",
    "    x_axes.append(float(row[58]))\n",
    "    y_axes.append(float(row[7]))\n",
    "    \n",
    "plt.title(\"\")\n",
    "plt.xlabel(\"Pre: VO2max\")\n",
    "plt.ylabel(\"Pre: Fedt\")\n",
    "plt.scatter(x_axes,\n",
    "            y_axes)\n",
    "\n",
    "z = np.polyfit(x_axes, y_axes, 1)\n",
    "p = np.poly1d(z)\n",
    "plt.plot(x_axes,p(x_axes),\"r--\")\n",
    "# the line equation:\n",
    "print \"y=%.6fx+(%.6f)\"%(z[0],z[1])\n",
    "print rsquared(x_axes,y_axes)\n",
    "\n",
    "print \"r2\", rsquared(x_axes,y_axes)\n",
    "\n",
    "print \"Pre: VO2max (mean)\", np.mean(x_axes)\n",
    "print \"Pre: Fedt (mean)\", np.mean(y_axes)"
   ]
  },
  {
   "cell_type": "code",
   "execution_count": 111,
   "metadata": {},
   "outputs": [
    {
     "name": "stdout",
     "output_type": "stream",
     "text": [
      "y=-3.424734x+(162.311564)\n",
      "0.454673865978\n",
      "r2 0.454673865978\n",
      "Post: VO2max (mean) 40.3090909091\n",
      "Post: Fedt (mean) 24.2636363636\n"
     ]
    },
    {
     "data": {
      "image/png": "[encoded data removed]",
      "text/plain": [
       "<matplotlib.figure.Figure at 0x115dbc1d0>"
      ]
     },
     "metadata": {},
     "output_type": "display_data"
    }
   ],
   "source": [
    "x_axes = []\n",
    "y_axes = []\n",
    "\n",
    "for index, row in enumerate(your_list[1:12]):\n",
    "    x_axes.append(float(row[59])) #Post: VO2max\n",
    "    y_axes.append(float(row[8]))\n",
    "    \n",
    "plt.title(\"\")\n",
    "plt.xlabel(\"Post: VO2max\")\n",
    "plt.ylabel(\"Post: Fedt\")\n",
    "plt.scatter(x_axes,\n",
    "            y_axes)\n",
    "\n",
    "z = np.polyfit(x_axes, y_axes, 1)\n",
    "p = np.poly1d(z)\n",
    "plt.plot(x_axes,p(x_axes),\"r--\")\n",
    "# the line equation:\n",
    "print \"y=%.6fx+(%.6f)\"%(z[0],z[1])\n",
    "print rsquared(x_axes,y_axes)\n",
    "\n",
    "print \"r2\", rsquared(x_axes,y_axes)\n",
    "\n",
    "print \"Post: VO2max (mean)\", np.mean(x_axes)\n",
    "print \"Post: Fedt (mean)\", np.mean(y_axes)"
   ]
  },
  {
   "cell_type": "markdown",
   "metadata": {},
   "source": [
    "# HIIT"
   ]
  },
  {
   "cell_type": "code",
   "execution_count": 107,
   "metadata": {},
   "outputs": [
    {
     "name": "stdout",
     "output_type": "stream",
     "text": [
      "y=-2.717375x+(133.761583)\n",
      "r2 0.830456827082\n",
      "Pre: VO2max (mean) 40.5363636364\n",
      "Pre: Fedt (mean) 23.6090909091\n"
     ]
    },
    {
     "data": {
      "image/png": "[encoded data removed]",
      "text/plain": [
       "<matplotlib.figure.Figure at 0x11599c750>"
      ]
     },
     "metadata": {},
     "output_type": "display_data"
    }
   ],
   "source": [
    "x_axes = []\n",
    "y_axes = []\n",
    "\n",
    "for index, row in enumerate(your_list[12:23]):\n",
    "    #print index, row[59]\n",
    "    x_axes.append(float(row[58]))\n",
    "    y_axes.append(float(row[7]))\n",
    "    \n",
    "plt.title(\"\")\n",
    "plt.xlabel(\"Pre: VO2max\")\n",
    "plt.ylabel(\"Pre: Fedt\")\n",
    "plt.scatter(x_axes,\n",
    "            y_axes)\n",
    "\n",
    "# calc the trendline\n",
    "z = np.polyfit(x_axes, y_axes, 1)\n",
    "p = np.poly1d(z)\n",
    "plt.plot(x_axes,p(x_axes),\"r--\")\n",
    "# the line equation:\n",
    "print \"y=%.6fx+(%.6f)\"%(z[0],z[1])\n",
    "\n",
    "print \"r2\", rsquared(x_axes,y_axes)\n",
    "\n",
    "print \"Pre: VO2max (mean)\", np.mean(x_axes)\n",
    "print \"Pre: Fedt (mean)\", np.mean(y_axes)"
   ]
  },
  {
   "cell_type": "code",
   "execution_count": 108,
   "metadata": {},
   "outputs": [
    {
     "name": "stdout",
     "output_type": "stream",
     "text": [
      "y=-1.694303x+(93.403227)\n",
      "r2 0.540348227505\n",
      "Post: VO2max (mean) 41.5636363636\n",
      "Post: Fedt (mean) 22.9818181818\n"
     ]
    },
    {
     "data": {
      "image/png": "[encoded data removed]",
      "text/plain": [
       "<matplotlib.figure.Figure at 0x115512610>"
      ]
     },
     "metadata": {},
     "output_type": "display_data"
    }
   ],
   "source": [
    "x_axes = []\n",
    "y_axes = []\n",
    "\n",
    "for index, row in enumerate(your_list[12:23]):\n",
    "    x_axes.append(float(row[59])) #Post: VO2max\n",
    "    y_axes.append(float(row[8]))\n",
    "    \n",
    "plt.title(\"\")\n",
    "plt.xlabel(\"Post: VO2max\")\n",
    "plt.ylabel(\"Post: Fedt\")\n",
    "plt.scatter(x_axes,\n",
    "            y_axes)\n",
    "\n",
    "z = np.polyfit(x_axes, y_axes, 1)\n",
    "p = np.poly1d(z)\n",
    "plt.plot(x_axes,p(x_axes),\"r--\")\n",
    "# the line equation:\n",
    "print \"y=%.6fx+(%.6f)\"%(z[0],z[1])\n",
    "\n",
    "print \"r2\", rsquared(x_axes,y_axes)\n",
    "\n",
    "print \"Post: VO2max (mean)\", np.mean(x_axes)\n",
    "print \"Post: Fedt (mean)\", np.mean(y_axes)"
   ]
  }
 ],
 "metadata": {
  "kernelspec": {
   "display_name": "Python 2",
   "language": "python",
   "name": "python2"
  },
  "language_info": {
   "codemirror_mode": {
    "name": "ipython",
    "version": 2
   },
   "file_extension": ".py",
   "mimetype": "text/x-python",
   "name": "python",
   "nbconvert_exporter": "python",
   "pygments_lexer": "ipython2",
   "version": "2.7.13"
  }
 },
 "nbformat": 4,
 "nbformat_minor": 2
}
